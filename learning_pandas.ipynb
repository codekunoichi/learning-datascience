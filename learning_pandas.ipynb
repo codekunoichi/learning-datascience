{
 "cells": [
  {
   "cell_type": "code",
   "execution_count": 1,
   "metadata": {},
   "outputs": [],
   "source": [
    "import pandas as pd"
   ]
  },
  {
   "cell_type": "markdown",
   "metadata": {},
   "source": [
    "*Following is taken from [Kaggle Pandas](https://www.kaggle.com/code/residentmario/indexing-selecting-assigning/tutorial) Tutorials*. And personal notes on topics that needed more information beyond the summarized notes in Kaggle Tutorial. Enjoy!\n",
    "\n",
    "Important objects in Pandas - **DataFrame** and **Series**\n",
    "\n",
    "## DataFrames\n",
    "\n",
    "A DataFrame is a table. It contains an array of individual entries, each of which has a certain value. Each entry corresponds to a row (or record) and a column."
   ]
  },
  {
   "cell_type": "code",
   "execution_count": 2,
   "metadata": {},
   "outputs": [
    {
     "name": "stdout",
     "output_type": "stream",
     "text": [
      "      Apples  Banana\n",
      "2001      10      30\n",
      "2002      20      40\n",
      "2003      30      30\n"
     ]
    }
   ],
   "source": [
    "example = pd.DataFrame({'Apples':[10, 20, 30], 'Banana': [30, 40, 30]}, index=['2001', '2002', '2003'])\n",
    "print(example)"
   ]
  },
  {
   "cell_type": "code",
   "execution_count": 3,
   "metadata": {},
   "outputs": [
    {
     "name": "stdout",
     "output_type": "stream",
     "text": [
      "               James Bond      Jason Bourne\n",
      "2010  Tomorrow Never Dies   Bourne Identity\n",
      "2020        Casino Royale  Bourne Supremacy\n"
     ]
    }
   ],
   "source": [
    "movies = pd.DataFrame({'James Bond': ['Tomorrow Never Dies', 'Casino Royale'], 'Jason Bourne' : ['Bourne Identity', 'Bourne Supremacy']}, index=['2010', '2020'])\n",
    "print(movies)"
   ]
  },
  {
   "cell_type": "markdown",
   "metadata": {},
   "source": [
    "## Series\n",
    "A Series, by contrast, is a sequence of data values. If a DataFrame is a table, a Series is a list. And in fact you can create one with nothing more than a list.\n",
    "A Series is, in essence, a single column of a DataFrame. So you can assign row labels to the Series the same way as before, using an index parameter. However, a Series does not have a column name, it only has one overall name. The Series and the DataFrame are intimately related. It's helpful to think of a DataFrame as actually being just a bunch of Series \"glued together\"."
   ]
  },
  {
   "cell_type": "code",
   "execution_count": 4,
   "metadata": {},
   "outputs": [
    {
     "name": "stdout",
     "output_type": "stream",
     "text": [
      "0    1\n",
      "1    2\n",
      "2    3\n",
      "3    4\n",
      "4    5\n",
      "dtype: int64\n"
     ]
    }
   ],
   "source": [
    "basic_series = pd.Series([1, 2, 3, 4, 5])\n",
    "print(basic_series)"
   ]
  },
  {
   "cell_type": "markdown",
   "metadata": {},
   "source": [
    "## Reading Data Files"
   ]
  },
  {
   "cell_type": "code",
   "execution_count": 5,
   "metadata": {},
   "outputs": [
    {
     "data": {
      "text/html": [
       "<div>\n",
       "<style scoped>\n",
       "    .dataframe tbody tr th:only-of-type {\n",
       "        vertical-align: middle;\n",
       "    }\n",
       "\n",
       "    .dataframe tbody tr th {\n",
       "        vertical-align: top;\n",
       "    }\n",
       "\n",
       "    .dataframe thead th {\n",
       "        text-align: right;\n",
       "    }\n",
       "</style>\n",
       "<table border=\"1\" class=\"dataframe\">\n",
       "  <thead>\n",
       "    <tr style=\"text-align: right;\">\n",
       "      <th></th>\n",
       "      <th>Film</th>\n",
       "      <th>Genre</th>\n",
       "      <th>Lead Studio</th>\n",
       "      <th>Audience score %</th>\n",
       "      <th>Profitability</th>\n",
       "      <th>Rotten Tomatoes %</th>\n",
       "      <th>Worldwide Gross</th>\n",
       "      <th>Year</th>\n",
       "    </tr>\n",
       "  </thead>\n",
       "  <tbody>\n",
       "    <tr>\n",
       "      <th>0</th>\n",
       "      <td>Zack and Miri Make a Porno</td>\n",
       "      <td>Romance</td>\n",
       "      <td>The Weinstein Company</td>\n",
       "      <td>70</td>\n",
       "      <td>1.747542</td>\n",
       "      <td>64</td>\n",
       "      <td>$41.94</td>\n",
       "      <td>2008</td>\n",
       "    </tr>\n",
       "    <tr>\n",
       "      <th>1</th>\n",
       "      <td>Youth in Revolt</td>\n",
       "      <td>Comedy</td>\n",
       "      <td>The Weinstein Company</td>\n",
       "      <td>52</td>\n",
       "      <td>1.090000</td>\n",
       "      <td>68</td>\n",
       "      <td>$19.62</td>\n",
       "      <td>2010</td>\n",
       "    </tr>\n",
       "    <tr>\n",
       "      <th>2</th>\n",
       "      <td>You Will Meet a Tall Dark Stranger</td>\n",
       "      <td>Comedy</td>\n",
       "      <td>Independent</td>\n",
       "      <td>35</td>\n",
       "      <td>1.211818</td>\n",
       "      <td>43</td>\n",
       "      <td>$26.66</td>\n",
       "      <td>2010</td>\n",
       "    </tr>\n",
       "    <tr>\n",
       "      <th>3</th>\n",
       "      <td>When in Rome</td>\n",
       "      <td>Comedy</td>\n",
       "      <td>Disney</td>\n",
       "      <td>44</td>\n",
       "      <td>0.000000</td>\n",
       "      <td>15</td>\n",
       "      <td>$43.04</td>\n",
       "      <td>2010</td>\n",
       "    </tr>\n",
       "    <tr>\n",
       "      <th>4</th>\n",
       "      <td>What Happens in Vegas</td>\n",
       "      <td>Comedy</td>\n",
       "      <td>Fox</td>\n",
       "      <td>72</td>\n",
       "      <td>6.267647</td>\n",
       "      <td>28</td>\n",
       "      <td>$219.37</td>\n",
       "      <td>2008</td>\n",
       "    </tr>\n",
       "  </tbody>\n",
       "</table>\n",
       "</div>"
      ],
      "text/plain": [
       "                                 Film    Genre            Lead Studio  \\\n",
       "0          Zack and Miri Make a Porno  Romance  The Weinstein Company   \n",
       "1                     Youth in Revolt   Comedy  The Weinstein Company   \n",
       "2  You Will Meet a Tall Dark Stranger   Comedy            Independent   \n",
       "3                        When in Rome   Comedy                 Disney   \n",
       "4               What Happens in Vegas   Comedy                    Fox   \n",
       "\n",
       "   Audience score %  Profitability  Rotten Tomatoes % Worldwide Gross  Year  \n",
       "0                70       1.747542                 64         $41.94   2008  \n",
       "1                52       1.090000                 68         $19.62   2010  \n",
       "2                35       1.211818                 43         $26.66   2010  \n",
       "3                44       0.000000                 15         $43.04   2010  \n",
       "4                72       6.267647                 28        $219.37   2008  "
      ]
     },
     "execution_count": 5,
     "metadata": {},
     "output_type": "execute_result"
    }
   ],
   "source": [
    "read_reviews = pd.read_csv('movies.csv')\n",
    "read_reviews.head()"
   ]
  },
  {
   "cell_type": "markdown",
   "metadata": {},
   "source": [
    "## Writing the dataframe to CSV"
   ]
  },
  {
   "cell_type": "code",
   "execution_count": 6,
   "metadata": {},
   "outputs": [],
   "source": [
    "animals = pd.DataFrame({'Cows': [12, 20], 'Goats': [22, 19]}, index=['Year 1', 'Year 2'])\n",
    "animals\n",
    "animals.to_csv('cows_and_goats.csv')"
   ]
  },
  {
   "cell_type": "markdown",
   "metadata": {},
   "source": [
    "## Indexing in Pandas\n",
    "\n",
    "In Pandas, `loc` and `iloc` are used for indexing and selecting data from a DataFrame, but they have some differences in how they work.\n",
    "\n",
    "1. `loc`:\n",
    "   - `loc` is primarily label-based indexing. It is used to select data based on the labels (row and column names) in the DataFrame.\n",
    "   - The syntax for using `loc` is `df.loc[row_label, column_label]`, where `row_label` and `column_label` can be single values, lists, slices, or boolean arrays.\n",
    "   - When using `loc`, both the start and stop indices are included, similar to how slices work in Python.\n",
    "   - The labels you use with `loc` must exist in the DataFrame; otherwise, you'll get a `KeyError`.\n",
    "\n",
    "Example:\n",
    "```python\n",
    "import pandas as pd\n",
    "\n",
    "data = {\n",
    "    'Name': ['Alice', 'Bob', 'Charlie', 'David'],\n",
    "    'Age': [25, 30, 22, 28],\n",
    "    'City': ['New York', 'San Francisco', 'Los Angeles', 'Chicago']\n",
    "}\n",
    "\n",
    "df = pd.DataFrame(data)\n",
    "print(df.loc[1, 'Name'])  # Output: Bob\n",
    "print(df.loc[1:2, 'Age'])  # Output: 1    30\n",
    "                           #         2    22\n",
    "                           #         Name: Age, dtype: int64\n",
    "```\n",
    "\n",
    "2. `iloc`:\n",
    "   - `iloc` is primarily integer-location based indexing. It is used to select data based on the integer indices of the rows and columns in the DataFrame.\n",
    "   - The syntax for using `iloc` is `df.iloc[row_index, column_index]`, where `row_index` and `column_index` can be single integers, lists of integers, slices, or boolean arrays.\n",
    "   - When using `iloc`, the start index is included, but the stop index is excluded, just like standard Python slicing.\n",
    "\n",
    "Example:\n",
    "```python\n",
    "import pandas as pd\n",
    "\n",
    "data = {\n",
    "    'Name': ['Alice', 'Bob', 'Charlie', 'David'],\n",
    "    'Age': [25, 30, 22, 28],\n",
    "    'City': ['New York', 'San Francisco', 'Los Angeles', 'Chicago']\n",
    "}\n",
    "\n",
    "df = pd.DataFrame(data)\n",
    "print(df.iloc[1, 0])  # Output: Bob\n",
    "print(df.iloc[1:3, 1])  # Output: 1    30\n",
    "                        #         2    22\n",
    "                        #         Name: Age, dtype: int64\n",
    "```\n",
    "\n",
    "In summary, `loc` is used when you want to select data based on labels (names), while `iloc` is used when you want to select data based on integer indices. Both are powerful tools for data selection in Pandas and are useful in different scenarios.\n",
    "\n",
    "iloc is conceptually simpler than loc because it ignores the dataset's indices. When we use iloc we treat the dataset like a big matrix (a list of lists), one that we have to index into by position. loc, by contrast, uses the information in the indices to do its work. Since your dataset usually has meaningful indices, it's usually easier to do things using loc"
   ]
  },
  {
   "cell_type": "code",
   "execution_count": 7,
   "metadata": {},
   "outputs": [
    {
     "name": "stdout",
     "output_type": "stream",
     "text": [
      "Bob\n",
      "1    30\n",
      "2    22\n",
      "Name: Age, dtype: int64\n"
     ]
    }
   ],
   "source": [
    "import pandas as pd\n",
    "\n",
    "data = {\n",
    "    'Name': ['Alice', 'Bob', 'Charlie', 'David'],\n",
    "    'Age': [25, 30, 22, 28],\n",
    "    'City': ['New York', 'San Francisco', 'Los Angeles', 'Chicago']\n",
    "}\n",
    "\n",
    "df = pd.DataFrame(data)\n",
    "print(df.loc[1, 'Name'])  # Output: Bob\n",
    "print(df.loc[1:2, 'Age'])  # Output: 1    30\n",
    "                           #         2    22\n",
    "                           #         Name: Age, dtype: int64"
   ]
  },
  {
   "cell_type": "code",
   "execution_count": 8,
   "metadata": {},
   "outputs": [
    {
     "name": "stdout",
     "output_type": "stream",
     "text": [
      "Bob\n",
      "1    30\n",
      "2    22\n",
      "Name: Age, dtype: int64\n"
     ]
    }
   ],
   "source": [
    "import pandas as pd\n",
    "\n",
    "data = {\n",
    "    'Name': ['Alice', 'Bob', 'Charlie', 'David'],\n",
    "    'Age': [25, 30, 22, 28],\n",
    "    'City': ['New York', 'San Francisco', 'Los Angeles', 'Chicago']\n",
    "}\n",
    "\n",
    "df = pd.DataFrame(data)\n",
    "print(df.iloc[1, 0])  # Output: Bob\n",
    "print(df.iloc[1:3, 1])  # Output: 1    30\n",
    "                        #         2    22\n",
    "                        #         Name: Age, dtype: int64"
   ]
  },
  {
   "cell_type": "markdown",
   "metadata": {},
   "source": [
    "#### Choosing between loc and iloc\n",
    "When choosing or transitioning between loc and iloc, there is one \"gotcha\" worth keeping in mind, which is that the two methods use slightly different indexing schemes.\n",
    "\n",
    "iloc uses the Python stdlib indexing scheme, where the first element of the range is included and the last one excluded. So 0:10 will select entries 0,...,9. loc, meanwhile, indexes inclusively. So 0:10 will select entries 0,...,10.\n",
    "\n",
    "Why the change? Remember that loc can index any stdlib type: strings, for example. If we have a DataFrame with index values Apples, ..., Potatoes, ..., and we want to select \"all the alphabetical fruit choices between Apples and Potatoes\", then it's a lot more convenient to index df.loc['Apples':'Potatoes'] than it is to index something like df.loc['Apples', 'Potatoet'] (t coming after s in the alphabet).\n",
    "\n",
    "This is particularly confusing when the DataFrame index is a simple numerical list, e.g. 0,...,1000. In this case df.iloc[0:1000] will return 1000 entries, while df.loc[0:1000] return 1001 of them! To get 1000 elements using loc, you will need to go one lower and ask for df.loc[0:999].\n",
    "\n",
    "Otherwise, the semantics of using loc are the same as those for iloc."
   ]
  },
  {
   "cell_type": "markdown",
   "metadata": {},
   "source": [
    "## Manipulating the index\n",
    "\n",
    "In Pandas, the `set_index()` method is used to set one or more columns as the DataFrame's index. By setting an index, you can access and manipulate data in the DataFrame based on the values in the specified column(s). The `set_index()` method does not modify the DataFrame in place but returns a new DataFrame with the updated index.\n",
    "\n",
    "The syntax for using `set_index()` is as follows:\n",
    "\n",
    "```python\n",
    "new_df = df.set_index(keys, drop=True, append=False, inplace=False)\n",
    "```\n",
    "\n",
    "Parameters:\n",
    "- `keys`: It can be a single column name (string) or a list of column names. These columns will become the new index of the DataFrame.\n",
    "- `drop`: If set to `True`, the column(s) used for indexing will be removed from the DataFrame. The default is `True`.\n",
    "- `append`: If set to `True`, the new index will be added as additional index levels if the DataFrame already has a MultiIndex. The default is `False`.\n",
    "- `inplace`: If set to `True`, the DataFrame will be modified in place, and the method will return `None`. The default is `False`, which means the method returns a new DataFrame with the updated index.\n",
    "\n",
    "Example:\n",
    "\n",
    "```python\n",
    "import pandas as pd\n",
    "\n",
    "data = {\n",
    "    'Name': ['Alice', 'Bob', 'Charlie', 'David'],\n",
    "    'Age': [25, 30, 22, 28],\n",
    "    'City': ['New York', 'San Francisco', 'Los Angeles', 'Chicago']\n",
    "}\n",
    "\n",
    "df = pd.DataFrame(data)\n",
    "\n",
    "# Setting 'Name' column as the new index\n",
    "new_df = df.set_index('Name')\n",
    "\n",
    "print(new_df)\n",
    "```\n",
    "\n",
    "Output:\n",
    "\n",
    "```\n",
    "         Age           City\n",
    "Name                        \n",
    "Alice     25       New York\n",
    "Bob       30  San Francisco\n",
    "Charlie   22    Los Angeles\n",
    "David     28       Chicago\n",
    "```\n",
    "\n",
    "In this example, the 'Name' column was set as the new index, and the resulting DataFrame, `new_df`, reflects this change. The 'Name' column is no longer part of the DataFrame, and it serves as the index for easier data access and manipulation based on names."
   ]
  },
  {
   "cell_type": "code",
   "execution_count": 9,
   "metadata": {},
   "outputs": [
    {
     "data": {
      "text/html": [
       "<div>\n",
       "<style scoped>\n",
       "    .dataframe tbody tr th:only-of-type {\n",
       "        vertical-align: middle;\n",
       "    }\n",
       "\n",
       "    .dataframe tbody tr th {\n",
       "        vertical-align: top;\n",
       "    }\n",
       "\n",
       "    .dataframe thead th {\n",
       "        text-align: right;\n",
       "    }\n",
       "</style>\n",
       "<table border=\"1\" class=\"dataframe\">\n",
       "  <thead>\n",
       "    <tr style=\"text-align: right;\">\n",
       "      <th></th>\n",
       "      <th>Name</th>\n",
       "      <th>Age</th>\n",
       "      <th>City</th>\n",
       "    </tr>\n",
       "  </thead>\n",
       "  <tbody>\n",
       "    <tr>\n",
       "      <th>0</th>\n",
       "      <td>Alice</td>\n",
       "      <td>25</td>\n",
       "      <td>New York</td>\n",
       "    </tr>\n",
       "    <tr>\n",
       "      <th>1</th>\n",
       "      <td>Bob</td>\n",
       "      <td>30</td>\n",
       "      <td>San Francisco</td>\n",
       "    </tr>\n",
       "    <tr>\n",
       "      <th>2</th>\n",
       "      <td>Charlie</td>\n",
       "      <td>22</td>\n",
       "      <td>Los Angeles</td>\n",
       "    </tr>\n",
       "    <tr>\n",
       "      <th>3</th>\n",
       "      <td>David</td>\n",
       "      <td>28</td>\n",
       "      <td>Chicago</td>\n",
       "    </tr>\n",
       "  </tbody>\n",
       "</table>\n",
       "</div>"
      ],
      "text/plain": [
       "      Name  Age           City\n",
       "0    Alice   25       New York\n",
       "1      Bob   30  San Francisco\n",
       "2  Charlie   22    Los Angeles\n",
       "3    David   28        Chicago"
      ]
     },
     "execution_count": 9,
     "metadata": {},
     "output_type": "execute_result"
    }
   ],
   "source": [
    "df"
   ]
  },
  {
   "cell_type": "code",
   "execution_count": 10,
   "metadata": {},
   "outputs": [
    {
     "data": {
      "text/html": [
       "<div>\n",
       "<style scoped>\n",
       "    .dataframe tbody tr th:only-of-type {\n",
       "        vertical-align: middle;\n",
       "    }\n",
       "\n",
       "    .dataframe tbody tr th {\n",
       "        vertical-align: top;\n",
       "    }\n",
       "\n",
       "    .dataframe thead th {\n",
       "        text-align: right;\n",
       "    }\n",
       "</style>\n",
       "<table border=\"1\" class=\"dataframe\">\n",
       "  <thead>\n",
       "    <tr style=\"text-align: right;\">\n",
       "      <th></th>\n",
       "      <th>Age</th>\n",
       "      <th>City</th>\n",
       "    </tr>\n",
       "    <tr>\n",
       "      <th>Name</th>\n",
       "      <th></th>\n",
       "      <th></th>\n",
       "    </tr>\n",
       "  </thead>\n",
       "  <tbody>\n",
       "    <tr>\n",
       "      <th>Alice</th>\n",
       "      <td>25</td>\n",
       "      <td>New York</td>\n",
       "    </tr>\n",
       "    <tr>\n",
       "      <th>Bob</th>\n",
       "      <td>30</td>\n",
       "      <td>San Francisco</td>\n",
       "    </tr>\n",
       "    <tr>\n",
       "      <th>Charlie</th>\n",
       "      <td>22</td>\n",
       "      <td>Los Angeles</td>\n",
       "    </tr>\n",
       "    <tr>\n",
       "      <th>David</th>\n",
       "      <td>28</td>\n",
       "      <td>Chicago</td>\n",
       "    </tr>\n",
       "  </tbody>\n",
       "</table>\n",
       "</div>"
      ],
      "text/plain": [
       "         Age           City\n",
       "Name                       \n",
       "Alice     25       New York\n",
       "Bob       30  San Francisco\n",
       "Charlie   22    Los Angeles\n",
       "David     28        Chicago"
      ]
     },
     "execution_count": 10,
     "metadata": {},
     "output_type": "execute_result"
    }
   ],
   "source": [
    "new_df = df.set_index(\"Name\")\n",
    "new_df"
   ]
  },
  {
   "cell_type": "markdown",
   "metadata": {},
   "source": [
    "## Conditional Selection\n",
    "\n",
    "Find wines with originating country Italy:\n",
    "\n",
    "```\n",
    "reviews.loc[reviews.country == 'Italy']\n",
    "```\n",
    "\n",
    "Find wines with originating country Italy and accrued points greater than equal to 90:\n",
    "\n",
    "```\n",
    "reviews.loc[(reviews.country == 'Italy') & (reviews.points >= 90)]\n",
    "```\n",
    "\n",
    "Find wines with originating country Italy or is rated above average.\n",
    "\n",
    "```\n",
    "reviews.loc[(reviews.country == 'Italy') | (reviews.points >= 90)]\n",
    "```\n",
    "\n",
    "Select wines only from Italy or France\n",
    "\n",
    "```\n",
    "reviews.loc[reviews.country.isin(['Italy', 'France'])]\n",
    "```\n",
    "\n",
    "Filter out wines lacking a price tag in the dataset\n",
    "\n",
    "```\n",
    "reviews.loc[reviews.price.notnull()]\n",
    "```\n",
    "\n",
    "Create a DataFrame top_oceania_wines containing all reviews with at least 95 points (out of 100) for wines from Australia or New Zealand.\n",
    "\n",
    "```\n",
    "top_oceania_wines = reviews.loc[reviews.country.isin(['Australia', 'New Zealand']) & (reviews.points >=95)]\n",
    "```\n",
    "\n",
    "Create a DataFrame italian_wines containing reviews of wines made in Italy\n",
    "\n",
    "```\n",
    "italian_wines = reviews.loc[reviews.country == 'Italy']\n",
    "```\n",
    "\n",
    "Create a variable df containing the country and variety columns of the first 100 records.\n",
    "\n",
    "```\n",
    "df_hold = reviews.iloc[:100]\n",
    "\n",
    "df = df_hold.loc[:, ['country' , 'variety']]\n",
    "\n",
    "```\n",
    "\n",
    "Create a variable df containing the country, province, region_1, and region_2 columns of the records with the index labels 0, 1, 10, and 100.\n",
    "\n",
    "```\n",
    "df_hold = reviews.iloc[[0, 1, 10, 100]]\n",
    "\n",
    "df = df_hold.loc[:, ['country', 'province', 'region_1', 'region_2']]\n",
    "\n",
    "```\n",
    "\n",
    "Select the records with index labels 1, 2, 3, 5, and 8, assigning the result to the variable sample_reviews.\n",
    "\n",
    "```\n",
    "sample_reviews = reviews.iloc[[1, 2, 3, 5, 8]]\n",
    "```\n",
    "\n",
    "Select the first 10 values from the description column in reviews, assigning the result to variable first_descriptions.\n",
    "\n",
    "```\n",
    "first_descriptions = reviews.iloc[:10, 1]\n",
    "```\n",
    "\n",
    "Select the first value from the description column of reviews, assigning it to variable first_description.\n",
    "\n",
    "```\n",
    "first_description = reviews['description'][0]\n",
    "```"
   ]
  },
  {
   "cell_type": "markdown",
   "metadata": {},
   "source": [
    "## Summary Functions\n",
    "\n",
    "### describe()\n",
    "\n"
   ]
  },
  {
   "cell_type": "code",
   "execution_count": 11,
   "metadata": {},
   "outputs": [
    {
     "data": {
      "text/plain": [
       "count     4.00\n",
       "mean     26.25\n",
       "std       3.50\n",
       "min      22.00\n",
       "25%      24.25\n",
       "50%      26.50\n",
       "75%      28.50\n",
       "max      30.00\n",
       "Name: Age, dtype: float64"
      ]
     },
     "execution_count": 11,
     "metadata": {},
     "output_type": "execute_result"
    }
   ],
   "source": [
    "df.Age.describe()"
   ]
  },
  {
   "cell_type": "code",
   "execution_count": 12,
   "metadata": {},
   "outputs": [
    {
     "data": {
      "text/plain": [
       "array(['Alice', 'Bob', 'Charlie', 'David'], dtype=object)"
      ]
     },
     "execution_count": 12,
     "metadata": {},
     "output_type": "execute_result"
    }
   ],
   "source": [
    "df.Name.unique()"
   ]
  },
  {
   "cell_type": "code",
   "execution_count": 13,
   "metadata": {},
   "outputs": [
    {
     "data": {
      "text/plain": [
       "Name\n",
       "Alice      1\n",
       "Bob        1\n",
       "Charlie    1\n",
       "David      1\n",
       "Name: count, dtype: int64"
      ]
     },
     "execution_count": 13,
     "metadata": {},
     "output_type": "execute_result"
    }
   ],
   "source": [
    "df.Name.value_counts()"
   ]
  },
  {
   "cell_type": "markdown",
   "metadata": {},
   "source": [
    "## Summarize Functions - Map and Apply\n",
    "\n",
    "*Kaggle Tutorial's explaination was not deep enough hence the following is more detailed explaination to help understand the nuances of map() vs. apply().*\n",
    "\n",
    "Both `map()` and `apply()` are useful methods in Pandas for transforming data in a DataFrame. However, they have some differences in how they work and what they can be used for.\n",
    "\n",
    "1. `map()`:\n",
    "   - `map()` is a method that works on Series objects in a DataFrame. It is mainly used for substituting each value in a Series with another value based on a mapping dictionary or a function.\n",
    "   - When you use `map()`, it applies the mapping to each individual element of the Series.\n",
    "   - The mapping can be a dictionary, a Series, or a function that takes each element as input and returns the mapped value.\n",
    "   - If a value in the Series does not have a corresponding mapping, it will be replaced with `NaN`.\n",
    "   - `map()` does not work on DataFrames; it only operates on Series.\n",
    "\n",
    "Example of `map()`:\n",
    "\n",
    "```python\n",
    "import pandas as pd\n",
    "\n",
    "data = {\n",
    "    'Gender': ['Male', 'Female', 'Male', 'Female', 'Male'],\n",
    "    'Age': [25, 30, 22, 28, 35]\n",
    "}\n",
    "\n",
    "df = pd.DataFrame(data)\n",
    "\n",
    "# Using map() to replace 'Male' with 1 and 'Female' with 0 in the 'Gender' column\n",
    "gender_map = {'Male': 1, 'Female': 0}\n",
    "df['Gender'] = df['Gender'].map(gender_map)\n",
    "\n",
    "print(df)\n",
    "```\n",
    "\n",
    "Output:\n",
    "\n",
    "```\n",
    "   Gender  Age\n",
    "0       1   25\n",
    "1       0   30\n",
    "2       1   22\n",
    "3       0   28\n",
    "4       1   35\n",
    "```\n",
    "\n",
    "2. `apply()`:\n",
    "   - `apply()` is a method that works on both Series and DataFrames. It is used to apply a function along the axis of a DataFrame or a Series.\n",
    "   - When you use `apply()` on a Series, it applies the function to each individual element of the Series.\n",
    "   - When you use `apply()` on a DataFrame, it applies the function to each column (default) or each row, based on the `axis` parameter you specify (`axis=0` for columns and `axis=1` for rows).\n",
    "   - The function you apply can be a built-in Python function, a lambda function, or a custom function that you define.\n",
    "   - `apply()` is more versatile than `map()` as it allows for more complex transformations.\n",
    "\n",
    "Example of `apply()`:\n",
    "\n",
    "```python\n",
    "import pandas as pd\n",
    "\n",
    "data = {\n",
    "    'Age': [25, 30, 22, 28, 35]\n",
    "}\n",
    "\n",
    "df = pd.DataFrame(data)\n",
    "\n",
    "# Using apply() to add 5 to each element in the 'Age' column\n",
    "df['Age'] = df['Age'].apply(lambda x: x + 5)\n",
    "\n",
    "print(df)\n",
    "```\n",
    "\n",
    "Output:\n",
    "\n",
    "```\n",
    "   Age\n",
    "0   30\n",
    "1   35\n",
    "2   27\n",
    "3   33\n",
    "4   40\n",
    "```\n",
    "\n",
    "In summary, `map()` is used for simple substitution based on a mapping dictionary or function and works only on Series, while `apply()` is more versatile and can apply functions to both Series and DataFrames, allowing for more complex transformations along the specified axis."
   ]
  },
  {
   "cell_type": "markdown",
   "metadata": {},
   "source": [
    "## Median\n",
    "\n",
    "In Pandas, you can find the median for a given column in a DataFrame using the `median()` method. The `median()` method calculates the median value of a numeric column, ignoring any non-numeric values (e.g., NaN).\n",
    "\n",
    "Here's how you can find the median for a specific column in a DataFrame:\n",
    "\n",
    "```python\n",
    "import pandas as pd\n",
    "\n",
    "# Sample DataFrame\n",
    "data = {\n",
    "    'Age': [25, 30, 22, 28, 35],\n",
    "    'Salary': [50000, 60000, 45000, 55000, 70000]\n",
    "}\n",
    "\n",
    "df = pd.DataFrame(data)\n",
    "\n",
    "# Finding the median of the 'Age' column\n",
    "age_median = df['Age'].median()\n",
    "print(\"Median Age:\", age_median)\n",
    "\n",
    "# Finding the median of the 'Salary' column\n",
    "salary_median = df['Salary'].median()\n",
    "print(\"Median Salary:\", salary_median)\n",
    "```\n",
    "\n",
    "Output:\n",
    "```\n",
    "Median Age: 28.0\n",
    "Median Salary: 55000.0\n",
    "```\n",
    "\n",
    "In this example, we first created a DataFrame with two columns 'Age' and 'Salary'. We then used the `median()` method to find the median value of each column. The result is displayed on the screen as the median age and the median salary. Note that the `median()` method returns a single value for each column."
   ]
  },
  {
   "cell_type": "markdown",
   "metadata": {},
   "source": [
    "## Creating new Columns based on existing Column Value - Centered Price\n",
    "\n",
    "To create a new column called \"Centered_Price\" where each value is the original \"Price\" value minus the mean of the \"Price\" column, you can use the `assign()` method along with the `mean()` method in Pandas.\n",
    "\n",
    "Here's how you can do it:\n",
    "\n",
    "```python\n",
    "import pandas as pd\n",
    "\n",
    "# Sample DataFrame\n",
    "data = {\n",
    "    'Price': [100, 150, 200, 120, 180]\n",
    "}\n",
    "\n",
    "df = pd.DataFrame(data)\n",
    "\n",
    "# Calculate the mean of the 'Price' column\n",
    "price_mean = df['Price'].mean()\n",
    "\n",
    "# Create the new 'Centered_Price' column\n",
    "df = df.assign(Centered_Price=df['Price'] - price_mean)\n",
    "\n",
    "print(df)\n",
    "```\n",
    "\n",
    "Output:\n",
    "```\n",
    "   Price  Centered_Price\n",
    "0    100           -30.0\n",
    "1    150            20.0\n",
    "2    200            70.0\n",
    "3    120           -10.0\n",
    "4    180            50.0\n",
    "```\n",
    "\n",
    "In this example, we first calculate the mean of the \"Price\" column using the `mean()` method. Then, we use the `assign()` method to create a new column called \"Centered_Price\" and set it to the result of subtracting the mean value from each value in the \"Price\" column.\n",
    "\n",
    "The resulting DataFrame will have the original \"Price\" column and the new \"Centered_Price\" column, where each value represents the original value minus the mean of the \"Price\" column."
   ]
  },
  {
   "cell_type": "code",
   "execution_count": 14,
   "metadata": {},
   "outputs": [
    {
     "name": "stdout",
     "output_type": "stream",
     "text": [
      "   Price  Centered_Price\n",
      "0    100           -50.0\n",
      "1    150             0.0\n",
      "2    200            50.0\n",
      "3    120           -30.0\n",
      "4    180            30.0\n"
     ]
    }
   ],
   "source": [
    "import pandas as pd\n",
    "\n",
    "# Sample DataFrame\n",
    "data = {\n",
    "    'Price': [100, 150, 200, 120, 180]\n",
    "}\n",
    "\n",
    "df = pd.DataFrame(data)\n",
    "\n",
    "# Calculate the mean of the 'Price' column\n",
    "price_mean = df['Price'].mean()\n",
    "\n",
    "# Create the new 'Centered_Price' column\n",
    "df = df.assign(Centered_Price=df['Price'] - price_mean)\n",
    "\n",
    "print(df)\n"
   ]
  },
  {
   "cell_type": "markdown",
   "metadata": {},
   "source": [
    "If you want to just get a new centered price DF and not augment the existing DF."
   ]
  },
  {
   "cell_type": "code",
   "execution_count": 16,
   "metadata": {},
   "outputs": [
    {
     "name": "stdout",
     "output_type": "stream",
     "text": [
      "0   -50.0\n",
      "1     0.0\n",
      "2    50.0\n",
      "3   -30.0\n",
      "4    30.0\n",
      "Name: Price, dtype: float64\n"
     ]
    }
   ],
   "source": [
    "centered_price = df.Price - df.Price.mean()\n",
    "print(centered_price)"
   ]
  },
  {
   "cell_type": "markdown",
   "metadata": {},
   "source": [
    "## Apply Example\n",
    "We'd like to host these wine reviews on our website, but a rating system ranging from 80 to 100 points is too hard to understand - we'd like to translate them into simple star ratings. A score of 95 or higher counts as 3 stars, a score of at least 85 but less than 95 is 2 stars. Any other score is 1 star.\n",
    "\n",
    "Also, the Canadian Vintners Association bought a lot of ads on the site, so any wines from Canada should automatically get 3 stars, regardless of points.\n",
    "\n",
    "Create a series star_ratings with the number of stars corresponding to each review in the dataset.\n",
    "\n",
    "```\n",
    "def rate(row):\n",
    "    if row.country == 'Canada':\n",
    "        return 3\n",
    "    if row.points >= 95:\n",
    "        return 3\n",
    "    elif row.points >= 85 & row.points < 95:\n",
    "        return 2\n",
    "    else:\n",
    "        return 1\n",
    "\n",
    "\n",
    "star_ratings = reviews.apply(rate, axis='columns')\n",
    "\n",
    "```"
   ]
  }
 ],
 "metadata": {
  "kernelspec": {
   "display_name": "Python 3",
   "language": "python",
   "name": "python3"
  },
  "language_info": {
   "codemirror_mode": {
    "name": "ipython",
    "version": 3
   },
   "file_extension": ".py",
   "mimetype": "text/x-python",
   "name": "python",
   "nbconvert_exporter": "python",
   "pygments_lexer": "ipython3",
   "version": "3.10.8"
  },
  "orig_nbformat": 4
 },
 "nbformat": 4,
 "nbformat_minor": 2
}
