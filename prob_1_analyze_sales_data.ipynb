{
 "cells": [
  {
   "cell_type": "markdown",
   "metadata": {},
   "source": [
    "## Problem 1: Analyzing Sales Data\n",
    "Dataset: Use a dataset containing sales records of a store, including columns like Date, Product Name, Quantity Sold, and Price.\n",
    "\n",
    "Tasks:\n",
    "\n",
    "1. Load the dataset into a Pandas DataFrame.\n",
    "2. Calculate the total sales and total profit for each product.\n",
    "3. Find the top-selling products based on the quantity sold.\n",
    "4. Calculate the average price of products.\n",
    "5. Identify the months with the highest sales.\n",
    "6. Plot the sales trend over time."
   ]
  }
 ],
 "metadata": {
  "kernelspec": {
   "display_name": "Python 3",
   "language": "python",
   "name": "python3"
  },
  "language_info": {
   "codemirror_mode": {
    "name": "ipython",
    "version": 3
   },
   "file_extension": ".py",
   "mimetype": "text/x-python",
   "name": "python",
   "nbconvert_exporter": "python",
   "pygments_lexer": "ipython3",
   "version": "3.10.8"
  },
  "orig_nbformat": 4
 },
 "nbformat": 4,
 "nbformat_minor": 2
}
