{
 "cells": [
  {
   "cell_type": "markdown",
   "metadata": {},
   "source": [
    "## Problem 2: Exploring Movie Data\n",
    "Dataset: Use a dataset containing information about movies, including columns like Title, Genre, Release Year, and Rating.\n",
    "\n",
    "Tasks:\n",
    "\n",
    "1. Load the dataset into a Pandas DataFrame.\n",
    "2. Find the number of movies released each year.\n",
    "3. Determine the most common genres and plot a bar chart to visualize the distribution.\n",
    "4. Calculate the average rating for each genre.\n",
    "5. Find the top-rated movies.\n",
    "6. Identify any trends in movie ratings over the years."
   ]
  }
 ],
 "metadata": {
  "language_info": {
   "name": "python"
  },
  "orig_nbformat": 4
 },
 "nbformat": 4,
 "nbformat_minor": 2
}
