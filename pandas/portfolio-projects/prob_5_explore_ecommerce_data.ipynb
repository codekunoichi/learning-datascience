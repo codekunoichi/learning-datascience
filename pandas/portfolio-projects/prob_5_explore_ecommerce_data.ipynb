{
 "cells": [
  {
   "cell_type": "markdown",
   "metadata": {},
   "source": [
    "## Problem 5: Exploring E-commerce Data\n",
    "Dataset: Use a dataset containing e-commerce transaction data, including columns like CustomerID, ProductID, Purchase Date, and Price.\n",
    "\n",
    "Tasks:\n",
    "\n",
    "1. Load the dataset into a Pandas DataFrame.\n",
    "2. Calculate the total revenue and the number of transactions.\n",
    "3. Find the top 10 customers based on their total spending.\n",
    "4. Identify the most popular products based on the number of times they were purchased.\n",
    "5. Calculate the average time between purchases for each customer.\n",
    "6. Plot the revenue trend over time."
   ]
  }
 ],
 "metadata": {
  "language_info": {
   "name": "python"
  },
  "orig_nbformat": 4
 },
 "nbformat": 4,
 "nbformat_minor": 2
}
