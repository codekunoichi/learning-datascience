{
 "cells": [
  {
   "cell_type": "markdown",
   "metadata": {},
   "source": [
    "## Problem 4: Analyzing Financial Data\n",
    "Dataset: Use a dataset containing financial information, including columns like Date, Ticker, Open, Close, High, Low, and Volume.\n",
    "\n",
    "Tasks:\n",
    "\n",
    "1. Load the dataset into a Pandas DataFrame.\n",
    "2. Calculate the daily percentage change in stock prices for each Ticker.\n",
    "3. Find the Ticker with the highest average trading volume.\n",
    "4. Identify the Ticker with the highest price volatility (difference between High and Low).\n",
    "5. Plot the stock price trends for a specific Ticker."
   ]
  }
 ],
 "metadata": {
  "language_info": {
   "name": "python"
  },
  "orig_nbformat": 4
 },
 "nbformat": 4,
 "nbformat_minor": 2
}
