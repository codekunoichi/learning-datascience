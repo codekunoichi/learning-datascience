{
 "cells": [
  {
   "cell_type": "markdown",
   "metadata": {},
   "source": [
    "## Problem 3: Analyzing COVID-19 Data\n",
    "Dataset: Use a dataset containing COVID-19 statistics for different countries, including columns like Date, Country, Cases, Deaths, and Recovered.\n",
    "\n",
    "Tasks:\n",
    "\n",
    "1. Load the dataset into a Pandas DataFrame.\n",
    "2. Calculate the total number of COVID-19 cases and deaths globally.\n",
    "3. Find the top 10 countries with the highest number of cases and deaths.\n",
    "4. Calculate the percentage increase in cases and deaths from one day to the next.\n",
    "5. Identify the date with the highest number of new cases.\n",
    "6. Plot the number of cases over time for a specific country."
   ]
  }
 ],
 "metadata": {
  "language_info": {
   "name": "python"
  },
  "orig_nbformat": 4
 },
 "nbformat": 4,
 "nbformat_minor": 2
}
